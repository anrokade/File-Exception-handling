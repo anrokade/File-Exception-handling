{
  "nbformat": 4,
  "nbformat_minor": 0,
  "metadata": {
    "colab": {
      "provenance": []
    },
    "kernelspec": {
      "name": "python3",
      "display_name": "Python 3"
    },
    "language_info": {
      "name": "python"
    }
  },
  "cells": [
    {
      "cell_type": "markdown",
      "source": [
        "# Files, exceptional handling, logging and memory management Questions"
      ],
      "metadata": {
        "id": "paD7YHzZRK9m"
      }
    },
    {
      "cell_type": "markdown",
      "source": [
        "### 1. Whatt is tIe difference between interpreted & complied language ?"
      ],
      "metadata": {
        "id": "YWsoxfyjRPpe"
      }
    },
    {
      "cell_type": "markdown",
      "source": [
        " 1) Compiled Language\n",
        "\n",
        "- Code is translated into machine code (binary) all at once by a compiler.\n",
        "\n",
        "- The result is a standalone executable file that can be run directly by the computer.\n",
        "\n",
        "Advantages:\n",
        "\n",
        "- Faster execution (since it's pre-translated).\n",
        "\n",
        "- Code is often harder to reverse-engineer (better for security).\n",
        "\n",
        "Disadvantages:\n",
        "\n",
        "Compilation takes time.\n",
        "\n",
        "- Debugging can be harder due to less helpful error messages.\n",
        "\n",
        "🔹 Examples:\n",
        "\n",
        "- C, C++, Rust, Go\n",
        "\n",
        "2) Interpreted Language\n",
        "\n",
        "- Code is executed line by line by an interpreter at runtime.\n",
        "\n",
        "- No standalone executable is created — it runs through the interpreter.\n",
        "\n",
        "Advantages:\n",
        "\n",
        "- Easier to debug (errors are caught at runtime).\n",
        "\n",
        "- More flexible and portable (code can often run on any machine with the interpreter).\n",
        "\n",
        "Disadvantages:\n",
        "\n",
        "- Slower execution (interpreting takes time).\n",
        "\n",
        "- Code is easier to view and modify (less secure).\n",
        "\n",
        "🔹 Examples:\n",
        "\n",
        "- Python, JavaScript, Ruby\n",
        "\n"
      ],
      "metadata": {
        "id": "nS3EcBeTRPOl"
      }
    },
    {
      "cell_type": "markdown",
      "source": [
        "### 2. what is Exception Handling in Python?"
      ],
      "metadata": {
        "id": "fnYLUe60RPL3"
      }
    },
    {
      "cell_type": "markdown",
      "source": [
        "Exception Handling is a way to manage errors that occur while your program is running — instead of crashing the program, you can handle the error gracefully.\n",
        "\n",
        "What is an Exception?\n",
        "\n",
        "An exception is a runtime error — something unexpected, like:\n",
        "\n",
        "- Dividing by zero\n",
        "\n",
        "- Opening a non-existent file\n",
        "\n",
        "- Using an undefined variable"
      ],
      "metadata": {
        "id": "oDGiEbqzRPIW"
      }
    },
    {
      "cell_type": "markdown",
      "source": [
        "### 3. what is the purpose of finally block in exception handling?"
      ],
      "metadata": {
        "id": "t3VezvCQRPFn"
      }
    },
    {
      "cell_type": "markdown",
      "source": [
        "The finally block is used in exception handling to define code that must run no matter what, whether an exception is raised or not.\n",
        "\n",
        "Key Purpose:\n",
        "\n",
        "To ensure cleanup actions (like closing files, releasing resources, disconnecting from databases) are performed, regardless of success or error.\n",
        "\n",
        "Behavior:\n",
        "\n",
        "The finally block will always execute:\n",
        "\n",
        "- If there’s no error\n",
        "\n",
        "- If an error occurs and is caught\n",
        "\n",
        "- Even if the program uses return or break\n",
        "\n",
        "- Even if an unexpected error occurs"
      ],
      "metadata": {
        "id": "avKQRd2ARPDG"
      }
    },
    {
      "cell_type": "markdown",
      "source": [
        "### 4. what is the logging in python?"
      ],
      "metadata": {
        "id": "bAyep-kwRO-h"
      }
    },
    {
      "cell_type": "markdown",
      "source": [
        "Logging is the process of recording messages or events from your program while it runs. It's used to track the flow of execution, debug issues, and monitor behavior — especially in larger applications.\n",
        "\n",
        "\n",
        "Why Use Logging (Instead of print)?\n",
        "\n",
        "- More flexible and powerful than print()\n",
        "\n",
        "- Can log at different levels of importance\n",
        "\n",
        "- Supports writing logs to files, not just the console\n",
        "\n",
        "- Easy to turn off or redirect in production"
      ],
      "metadata": {
        "id": "x2nyZbmTYwzx"
      }
    },
    {
      "cell_type": "markdown",
      "source": [
        "### 5. what is the significance of _ _ del_ _ method in python ?"
      ],
      "metadata": {
        "id": "FSKsBYhjYwvx"
      }
    },
    {
      "cell_type": "markdown",
      "source": [
        "The __del__ method in Python is a special method called a destructor. It is automatically called when an object is about to be destroyed — typically when there are no more references to the object.\n",
        "\n",
        "Purpose:\n",
        "\n",
        "The main purpose of __del__ is to allow you to define cleanup behavior for your object — like:\n",
        "\n",
        "- Closing files\n",
        "\n",
        "- Releasing memory\n",
        "\n",
        "- Disconnecting from a database\n",
        "\n",
        "- Logging object deletion"
      ],
      "metadata": {
        "id": "Y8h0paZQYwtb"
      }
    },
    {
      "cell_type": "markdown",
      "source": [
        "### 6. what is the difference between import and from..import python?"
      ],
      "metadata": {
        "id": "4NbItUVdYwrR"
      }
    },
    {
      "cell_type": "markdown",
      "source": [
        "1) import module\n",
        "\n",
        "- Loads the whole module\n",
        "- You access everything using the module name (like math.sqrt)\n",
        "- Avoids name conflicts\n"
      ],
      "metadata": {
        "id": "Y1ZecH4jYwow"
      }
    },
    {
      "cell_type": "code",
      "source": [
        "import math\n",
        "\n",
        "print(math.sqrt(16))  # Access with module name\n",
        "\n"
      ],
      "metadata": {
        "colab": {
          "base_uri": "https://localhost:8080/"
        },
        "id": "Obv7yerrdwjC",
        "outputId": "6539ecaa-dd7a-44f3-ca65-247ec2dbc3d8"
      },
      "execution_count": null,
      "outputs": [
        {
          "output_type": "stream",
          "name": "stdout",
          "text": [
            "4.0\n"
          ]
        }
      ]
    },
    {
      "cell_type": "markdown",
      "source": [
        "2) from module import something\n",
        "\n",
        "- Loads only what you need\n",
        "- Cleaner code (less typing)\n",
        "- Can cause name conflicts if you're not careful (e.g., importing two functions with the same name from different modules)"
      ],
      "metadata": {
        "id": "maXgajRsYwmZ"
      }
    },
    {
      "cell_type": "code",
      "source": [
        "from math import sqrt\n",
        "\n",
        "print(sqrt(16))  # Direct access, no module name needed"
      ],
      "metadata": {
        "colab": {
          "base_uri": "https://localhost:8080/"
        },
        "id": "XtS9dLiEecVA",
        "outputId": "dbca7486-a3eb-425c-d05f-68be41861761"
      },
      "execution_count": null,
      "outputs": [
        {
          "output_type": "stream",
          "name": "stdout",
          "text": [
            "4.0\n"
          ]
        }
      ]
    },
    {
      "cell_type": "markdown",
      "source": [
        "from module import * (Not Recommended)\n",
        "\n",
        "- Imports everything from the module directly into your namespace\n",
        "- Can overwrite existing names and make debugging hard\n",
        "- Best avoided in real-world projects"
      ],
      "metadata": {
        "id": "xkHdIUiOYwiB"
      }
    },
    {
      "cell_type": "code",
      "source": [
        "from math import *\n",
        "print(sqrt(16))"
      ],
      "metadata": {
        "colab": {
          "base_uri": "https://localhost:8080/"
        },
        "id": "LT8hINVZfnnI",
        "outputId": "f8983c63-3b3b-4c8a-fd89-c86c2e5f5360"
      },
      "execution_count": null,
      "outputs": [
        {
          "output_type": "stream",
          "name": "stdout",
          "text": [
            "4.0\n"
          ]
        }
      ]
    },
    {
      "cell_type": "markdown",
      "source": [
        "### 7. How can you handle multiple exception in python?"
      ],
      "metadata": {
        "id": "3GhiZ5Z8Ywfa"
      }
    },
    {
      "cell_type": "markdown",
      "source": [
        "In Python, you can handle multiple exceptions in a try block using multiple except clauses or a single except with a tuple."
      ],
      "metadata": {
        "id": "joaO1x0VYwdS"
      }
    },
    {
      "cell_type": "code",
      "source": [
        "# Option 1: Multiple except Blocks\n",
        "\n",
        "try:\n",
        "    num = int(input(\"Enter a number: \"))\n",
        "    result = 10 / num\n",
        "except ValueError:\n",
        "    print(\"Invalid input. Please enter a number.\")\n",
        "except ZeroDivisionError:\n",
        "    print(\"You can't divide by zero.\")"
      ],
      "metadata": {
        "id": "J4JJnrujhwo9"
      },
      "execution_count": null,
      "outputs": []
    },
    {
      "cell_type": "code",
      "source": [
        "# Option 2: One except with a Tuple of Exceptions\n",
        "\n",
        "try:\n",
        "    num = int(input(\"Enter a number: \"))\n",
        "    result = 10 / num\n",
        "except (ValueError, ZeroDivisionError) as e:\n",
        "    print(\"Error occurred:\", e)\n"
      ],
      "metadata": {
        "id": "lr7sZGrVij8q"
      },
      "execution_count": null,
      "outputs": []
    },
    {
      "cell_type": "code",
      "source": [
        "# Catch All Exceptions (Not Recommended for Debugging)\n",
        "\n",
        "try:\n",
        "    # risky code\n",
        "    pass\n",
        "except Exception as e:\n",
        "    print(\"An unexpected error occurred:\", e)\n",
        "\n",
        "# This catches all exceptions, but it can make bugs harder to find, so use it carefully (e.g. in production logging)."
      ],
      "metadata": {
        "id": "B8SKhb-TjUH5"
      },
      "execution_count": null,
      "outputs": []
    },
    {
      "cell_type": "markdown",
      "source": [
        "### 8. what is the purpose of the with statement when handling files in python?"
      ],
      "metadata": {
        "id": "6JgAmSahYwbB"
      }
    },
    {
      "cell_type": "markdown",
      "source": [
        "The with statement in Python is used for simpler, safer, and cleaner handling of file operations.\n",
        "\n",
        "**Key Purpose:**\n",
        "\n",
        "To automatically manage resources — like opening and closing files — without needing to call .close() manually, even if an error occurs."
      ],
      "metadata": {
        "id": "bYbESDC7YwYY"
      }
    },
    {
      "cell_type": "code",
      "source": [
        "with open(\"example.txt\", \"r\") as file:\n",
        "    content = file.read()\n",
        "    print(content)\n",
        "# File is automatically closed here"
      ],
      "metadata": {
        "id": "sbOX3SqdkRTB"
      },
      "execution_count": null,
      "outputs": []
    },
    {
      "cell_type": "markdown",
      "source": [
        "### 9. what is the difference between multithreading & multiprocessing?"
      ],
      "metadata": {
        "id": "D2n02WfBYwWJ"
      }
    },
    {
      "cell_type": "markdown",
      "source": [
        "Both multithreading and multiprocessing are used for concurrent execution, but they work differently and serve different purposes.\n",
        "\n",
        "1. Multithreading\n",
        "\n",
        "- Runs multiple threads within the same process.\n",
        "\n",
        "- Threads share the same memory space.\n",
        "\n",
        "- Best for I/O-bound tasks (e.g., reading files, network calls).\n",
        "\n",
        "**Advantages:**\n",
        "\n",
        "- Lightweight (less memory)\n",
        "\n",
        "- Easier data sharing between threads\n",
        "\n",
        "**Limitations:**\n",
        "\n",
        "- Slowed down by Python’s GIL (Global Interpreter Lock): only one thread runs Python bytecode at a time\n",
        "\n",
        "- Not ideal for CPU-heavy tasks"
      ],
      "metadata": {
        "id": "aoGuuurJYwTh"
      }
    },
    {
      "cell_type": "code",
      "source": [
        "import threading\n",
        "\n",
        "def task():\n",
        "    print(\"Thread running\")\n",
        "\n",
        "thread = threading.Thread(target=task)\n",
        "thread.start()"
      ],
      "metadata": {
        "id": "8Nv87jIylmq0"
      },
      "execution_count": null,
      "outputs": []
    },
    {
      "cell_type": "markdown",
      "source": [
        "2. Multiprocessing\n",
        "\n",
        "- Runs multiple processes, each with its own memory space.\n",
        "\n",
        "- Ideal for CPU-bound tasks (e.g., heavy computation, data processing).\n",
        "\n",
        "- Bypasses the GIL — true parallelism.\n",
        "\n",
        "**Advantages:**\n",
        "\n",
        "- Fully utilizes multiple CPU cores\n",
        "\n",
        "- True parallel execution\n",
        "\n",
        "**Limitations:**\n",
        "\n",
        "- Higher memory usage\n",
        "\n",
        "- More complex communication between processes"
      ],
      "metadata": {
        "id": "BSPuZvjxlqEl"
      }
    },
    {
      "cell_type": "code",
      "source": [
        "import multiprocessing\n",
        "\n",
        "def task():\n",
        "    print(\"Process running\")\n",
        "\n",
        "process = multiprocessing.Process(target=task)\n",
        "process.start()"
      ],
      "metadata": {
        "id": "JXgkvRBOmEVb"
      },
      "execution_count": null,
      "outputs": []
    },
    {
      "cell_type": "markdown",
      "source": [
        "### 10. what are the advantages of using logging in a program?"
      ],
      "metadata": {
        "id": "QSSFKwk7YwRg"
      }
    },
    {
      "cell_type": "markdown",
      "source": [
        "1) Tracks Events During Execution\n",
        "\n",
        "- Logs show what the program is doing step by step.\n",
        "\n",
        "- Helps you trace how data flows and where errors occur.\n",
        "\n",
        "2)  Helps with Debugging\n",
        "\n",
        "- Logs can capture error messages, stack traces, and variable values.\n",
        "\n",
        "- You can keep logs even after the program crashes — unlike print statements.\n",
        "\n",
        "3) Multiple Logging Levels\n",
        "\n",
        "You can record messages by severity, such as:\n",
        "Level\tUse Case Example\n",
        "DEBUG-\t  Detailed information for developers\n",
        "\n",
        "- INFO- \t  General messages about program progress\n",
        "\n",
        "- WARNING- \tSomething unexpected, but not a crash\n",
        "\n",
        "- ERROR- \t  A problem that affects a function\n",
        "\n",
        "- CRITICAL- A serious error, likely to crash the program\n",
        "\n",
        "4) Flexible Output Options\n",
        "\n",
        "You can log to:\n",
        "\n",
        "- Console\n",
        "\n",
        "- Files\n",
        "\n",
        "- Remote servers\n",
        "\n",
        "- Email\n",
        "\n",
        "- This makes it easy to monitor apps in production.\n",
        "\n",
        "5) Keeps Code Cleaner\n",
        "- Logging can be turned on/off or filtered by level — unlike print() statements which need to be manually removed.\n",
        "\n",
        "6) Supports Formatting and Timestamps\n",
        "\n",
        "- Helps in organizing logs for long-running or multi-user applications.\n",
        "\n",
        "7) Good for Production Systems\n",
        "\n",
        "- In production, you often don’t want print statements.\n",
        "\n",
        "- Logs can be monitored and analyzed later to fix bugs or improve performance."
      ],
      "metadata": {
        "id": "WVAJHWBNYwOx"
      }
    },
    {
      "cell_type": "markdown",
      "source": [
        "### 11. what is memory management in python?"
      ],
      "metadata": {
        "id": "rFslcWmZYwMh"
      }
    },
    {
      "cell_type": "markdown",
      "source": [
        "Memory management in Python refers to how the language handles the allocation, use, and freeing of memory during the execution of a program. Python manages memory automatically, so programmers don’t usually have to manually allocate or deallocate memory.\n",
        "\n",
        "Key Points:\n",
        "\n",
        "- Automatic Memory Management:\n",
        "    Python uses a private heap space to store objects and data structures. The Python memory manager handles this heap and takes care of allocating and deallocating memory as needed.\n",
        "\n",
        "- Reference Counting:\n",
        "    Python primarily uses a technique called reference counting to keep track of how many references point to an object. When an object's reference count drops to zero (meaning nothing is using it anymore), the memory occupied by that object is released.\n",
        "\n",
        "- Garbage Collection:\n",
        "    Because reference counting alone can’t handle cyclic references (where two or more objects reference each other), Python also has a garbage collector that periodically looks for such cycles and cleans them up.\n",
        "\n",
        "- Memory Pools:\n",
        "    For efficiency, Python uses memory pools (via a component called PyMalloc) to manage small objects, reducing fragmentation and speeding up allocation."
      ],
      "metadata": {
        "id": "b3tDWfVrYwKJ"
      }
    },
    {
      "cell_type": "markdown",
      "source": [
        "### 12. what are the basic steps involved in exception handling in python?"
      ],
      "metadata": {
        "id": "ncduiLQgYwHZ"
      }
    },
    {
      "cell_type": "markdown",
      "source": [
        "- Try Block:\n",
        "Write the code that might raise an exception inside a try block. This is where you “try” to execute your code.\n",
        "\n",
        "- Except Block:\n",
        "Follow the try block with one or more except blocks to catch and handle specific exceptions if they occur. You can handle different types of exceptions separately.\n",
        "\n",
        "- Else Block (Optional):\n",
        "An else block can be added after all the except blocks. Code inside else runs only if the try block did not raise any exception.\n",
        "\n",
        "- Finally Block (Optional):\n",
        "The finally block contains code that will run no matter what—whether an exception occurred or not. It’s often used for cleanup actions like closing files or releasing resources."
      ],
      "metadata": {
        "id": "atCCUi-DYwDD"
      }
    },
    {
      "cell_type": "markdown",
      "source": [
        "### 13.why is memory management important in python?"
      ],
      "metadata": {
        "id": "IfgzKf07Yv8h"
      }
    },
    {
      "cell_type": "markdown",
      "source": [
        "- Efficient Use of Resources:\n",
        "Proper memory management ensures that the limited memory available is used efficiently. This helps programs run faster and handle larger amounts of data without crashing.\n",
        "\n",
        "- Prevents Memory Leaks:\n",
        "Without good memory management, unused objects may not be freed properly, causing memory leaks. Over time, this can slow down or crash applications by exhausting available memory.\n",
        "\n",
        "- Improves Performance:\n",
        "Automatically managing memory, like Python does with reference counting and garbage collection, helps maintain smooth and optimized performance without manual intervention.\n",
        "\n",
        "- Simplifies Programming:\n",
        "Python’s automated memory management frees developers from having to manually allocate or free memory, reducing complexity and the chance of errors like dangling pointers or double frees common in lower-level languages.\n",
        "\n",
        "- Supports Dynamic Features:\n",
        "Python supports dynamic typing and flexible data structures, which need robust memory management to handle changing object lifecycles and sizes efficiently."
      ],
      "metadata": {
        "id": "v03FOrIvYv6R"
      }
    },
    {
      "cell_type": "markdown",
      "source": [
        "### 14. what is the role of try and except in exception handling?"
      ],
      "metadata": {
        "id": "U90xnNmoYv4B"
      }
    },
    {
      "cell_type": "markdown",
      "source": [
        "- try Block:\n",
        "The try block contains the code that you want to execute and where an exception might occur. Python will attempt to run all the code inside this block.\n",
        "\n",
        "- except Block:\n",
        "If an error (exception) occurs inside the try block, Python immediately stops executing the try block and looks for a matching except block to handle that specific exception. The code inside the except block runs to handle the error gracefully, preventing the program from crashing."
      ],
      "metadata": {
        "id": "u5JZ8NEZYv1h"
      }
    },
    {
      "cell_type": "markdown",
      "source": [
        "### 15. How does python garbage collection system work?"
      ],
      "metadata": {
        "id": "NirLgda_YvzR"
      }
    },
    {
      "cell_type": "markdown",
      "source": [
        "Python manages memory automatically using a combination of reference counting and a garbage collector to clean up unused objects.\n",
        "\n",
        "1. Reference Counting\n",
        "\n",
        "    Every object in Python keeps a count of how many references point to it.\n",
        "\n",
        "    When you create a new reference to an object, its reference count increases.\n",
        "\n",
        "    When a reference is deleted or goes out of scope, the count decreases.\n",
        "\n",
        "    When the reference count drops to zero, Python immediately deallocates the object’s memory.\n",
        "\n",
        "2. Garbage Collection for Cycles\n",
        "\n",
        "    Reference counting can’t detect reference cycles, where two or more objects reference each other, keeping their counts above zero even if they are no longer accessible.\n",
        "\n",
        "    To handle this, Python has a cyclic garbage collector (part of the gc module) that periodically looks for these cycles and frees them.\n",
        "\n",
        "3) How Cyclic Garbage Collector Works:\n",
        "\n",
        "- It tracks container objects (like lists, dictionaries, custom objects) that may participate in reference cycles.\n",
        "\n",
        "- It runs periodically to identify groups of objects that reference each other but are unreachable from the program.\n",
        "\n",
        "- Once detected, it breaks the cycle by deallocating those objects."
      ],
      "metadata": {
        "id": "9DkwVbqRYvxJ"
      }
    },
    {
      "cell_type": "markdown",
      "source": [
        "### 16. what is the purpose of the else block in exception handling?"
      ],
      "metadata": {
        "id": "gCiTb0GGYvs5"
      }
    },
    {
      "cell_type": "markdown",
      "source": [
        "Purpose of the else Block in Exception Handling\n",
        "\n",
        "- The else block is optional and is placed after all the except blocks.\n",
        "\n",
        "- It runs only if no exceptions were raised in the preceding try block.\n",
        "\n",
        "- This is useful for code that should execute only when the try block succeeds, keeping the successful case logic separate from both error handling (except) and cleanup (finally).\n"
      ],
      "metadata": {
        "id": "V7cgxXVkYvqi"
      }
    },
    {
      "cell_type": "markdown",
      "source": [
        "### 17. what are the common logging levels in python?"
      ],
      "metadata": {
        "id": "ln_5ndIjhC3B"
      }
    },
    {
      "cell_type": "markdown",
      "source": [
        "Python’s built-in logging module defines several standard logging levels to indicate the severity or importance of events. These levels help you control what messages get recorded.\n",
        "\n",
        "| Level        | Numeric Value | Description                                                           |\n",
        "| ------------ | ------------- | --------------------------------------------------------------------- |\n",
        "| **DEBUG**    | 10            | Detailed information, useful for diagnosing problems.                 |\n",
        "| **INFO**     | 20            | Confirmation that things are working as expected.                     |\n",
        "| **WARNING**  | 30            | An indication of a potential problem or important event.              |\n",
        "| **ERROR**    | 40            | A serious problem that caused a failure in a part of the program.     |\n",
        "| **CRITICAL** | 50            | A very serious error, indicating a program crash or critical failure. |\n"
      ],
      "metadata": {
        "id": "SQ6rAB5phC0Z"
      }
    },
    {
      "cell_type": "markdown",
      "source": [
        "### 18 what is the difference between os.fork() and multiprocessing?"
      ],
      "metadata": {
        "id": "zKedYBgRhCsx"
      }
    },
    {
      "cell_type": "markdown",
      "source": [
        "| Feature              | `os.fork()`                                                     | `multiprocessing` Module                                |\n",
        "| -------------------- | --------------------------------------------------------------- | ------------------------------------------------------- |\n",
        "| **What it is**       | Low-level system call to create a child process                 | High-level Python module for process-based parallelism  |\n",
        "| **Platform support** | **Unix/Linux only** (not available on Windows)                  | Cross-platform (works on Windows, macOS, Linux)         |\n",
        "| **Ease of use**      | Complex, requires manual process management                     | Easier and more Pythonic with higher-level APIs         |\n",
        "| **Data sharing**     | No automatic sharing — need inter-process communication (IPC)   | Supports shared memory, queues, pipes, etc.             |\n",
        "| **Error handling**   | Manual — no built-in error propagation                          | Built-in error handling and process management          |\n",
        "| **Use case**         | Used for low-level process control, like in systems programming | Used for writing concurrent Python programs more easily |\n"
      ],
      "metadata": {
        "id": "QRcrbxa0hCqZ"
      }
    },
    {
      "cell_type": "markdown",
      "source": [
        "### 19. what is the importance of closing file python?"
      ],
      "metadata": {
        "id": "ChiCLs0chCoB"
      }
    },
    {
      "cell_type": "markdown",
      "source": [
        "When you open a file using Python’s open() function, it creates a connection between your program and the file. Closing the file properly is crucial for several reasons:\n",
        "\n",
        "1. Frees System Resources\n",
        "\n",
        "    Each open file uses memory and system resources.\n",
        "\n",
        "    If too many files remain open, you could hit the system’s file handle limit and cause your program (or others) to crash.\n",
        "\n",
        "2. Flushes Data to Disk\n",
        "\n",
        "    When writing to a file, data is first stored in a buffer.\n",
        "\n",
        "    Closing the file flushes the buffer — i.e., it ensures all data is actually written to the file on disk.\n",
        "\n",
        "3. Avoids File Corruption\n",
        "\n",
        "    Not closing a file after writing can lead to incomplete or corrupted files.\n",
        "\n",
        "    Especially important when writing large files or in systems with limited I/O capacity.\n",
        "\n",
        "4. Ensures File Access by Others\n",
        "\n",
        "    An open file might be locked, preventing other processes from accessing it.\n",
        "\n",
        "    Closing the file releases the lock and makes it accessible."
      ],
      "metadata": {
        "id": "rLowxxALhClx"
      }
    },
    {
      "cell_type": "markdown",
      "source": [
        "### 20. what is the difference between file.read() and file.readline()"
      ],
      "metadata": {
        "id": "O6-3_ABphCjR"
      }
    },
    {
      "cell_type": "markdown",
      "source": [
        "| Feature           | `file.read()`                                             | `file.readline()`                                      |\n",
        "| ----------------- | --------------------------------------------------------- | ------------------------------------------------------ |\n",
        "| **Purpose**       | Reads **entire file** or a specified number of characters | Reads **a single line** from the file                  |\n",
        "| **Returns**       | A string with **all file content** (or part of it)        | A string with **one line** including `\\n` (if present) |\n",
        "| **Memory Usage**  | Can be heavy for large files                              | More memory-efficient (reads line by line)             |\n",
        "| **Use Case**      | When you want the **whole file at once**                  | When you want to **process line by line**              |\n",
        "| **Loop Friendly** | Not ideal for looping                                     | Often used in `while` or `for` loops                   |\n"
      ],
      "metadata": {
        "id": "RH7HCE8uhChI"
      }
    },
    {
      "cell_type": "markdown",
      "source": [
        "### 21.what is the logging module python used for?"
      ],
      "metadata": {
        "id": "nujcnm3LhCe5"
      }
    },
    {
      "cell_type": "markdown",
      "source": [
        " What Is the logging Module Used For?\n",
        "\n",
        "- Debugging\n",
        "    Helps developers record messages about the program’s state at various points to diagnose problems.\n",
        "\n",
        "- Error Tracking\n",
        "    Captures and logs exceptions or unexpected behavior without stopping the program.\n",
        "\n",
        "- Status Monitoring\n",
        "    Logs important events like system status, transactions, API calls, or process milestones.\n",
        "\n",
        "- Audit Trails\n",
        "    Useful in production environments to maintain logs for security, compliance, or user activity tracking.\n",
        "\n",
        "- Flexible Output Control\n",
        "    You can direct logs to files, the console, or remote servers, and format them as needed."
      ],
      "metadata": {
        "id": "nw3DRGfBhCcp"
      }
    },
    {
      "cell_type": "markdown",
      "source": [
        "### 22.what is a os module in python used for in file handling?"
      ],
      "metadata": {
        "id": "ZAt0TO6lmh7Y"
      }
    },
    {
      "cell_type": "markdown",
      "source": [
        "| Task                                     | Function                                      |\n",
        "| ---------------------------------------- | --------------------------------------------- |\n",
        "| **Get current working directory**        | `os.getcwd()`                                 |\n",
        "| **Change working directory**             | `os.chdir(path)`                              |\n",
        "| **List files in a directory**            | `os.listdir(path)`                            |\n",
        "| **Create a directory**                   | `os.mkdir(path)` or `os.makedirs(path)`       |\n",
        "| **Delete a file**                        | `os.remove(filename)`                         |\n",
        "| **Delete a directory**                   | `os.rmdir(path)` or `os.removedirs(path)`     |\n",
        "| **Check if file or directory exists**    | `os.path.exists(path)`                        |\n",
        "| **Check if path is a file or directory** | `os.path.isfile(path)`, `os.path.isdir(path)` |\n",
        "| **Join paths correctly**                 | `os.path.join(path1, path2)`                  |\n"
      ],
      "metadata": {
        "id": "XjDEnXO5m3UL"
      }
    },
    {
      "cell_type": "markdown",
      "source": [
        "### 23. what are the challanges associated with memory management in python?"
      ],
      "metadata": {
        "id": "CE-R-3jihCaa"
      }
    },
    {
      "cell_type": "markdown",
      "source": [
        "1. Memory Leaks\n",
        "\n",
        "- Python uses automatic garbage collection, but memory leaks can still occur.\n",
        "\n",
        "- Common causes:\n",
        "\n",
        "        1) Circular references not handled by the garbage collector\n",
        "\n",
        "        2) Global variables or lingering references that prevent objects from being freed\n",
        "\n",
        "        3) Poor use of third-party libraries that retain data unnecessarily\n",
        "\n",
        "2. Circular References\n",
        "\n",
        "- Python’s reference counting can’t handle cyclic references on its own.\n",
        "\n",
        "- Although the garbage collector can detect and clean them, it adds overhead and may not always be 100% effective.\n",
        "\n",
        "3. High Memory Usage with Large Data\n",
        "\n",
        "- Python objects are more memory-heavy compared to low-level languages like C.\n",
        "\n",
        "- Using large lists, dictionaries, or unnecessary object copies can quickly increase memory usage.\n",
        "\n",
        "4. Fragmentation\n",
        "\n",
        "- Python’s memory allocator (PyMalloc) manages memory in chunks, which can lead to fragmentation and inefficient memory usage over time.\n",
        "\n",
        "5. Global Interpreter Lock (GIL)\n",
        "\n",
        "- While not directly a memory issue, the GIL can limit performance in multi-threaded programs, leading developers to use multiple processes (which increases memory usage).\n",
        "\n",
        "6. Manual Memory Management (Rare but Tricky)\n",
        "\n",
        "- Advanced users can use gc, weakref, or custom memory profiling tools—but these add complexity and risk mismanagement if not handled carefully.\n",
        "\n",
        "7. Lack of Deterministic Destruction\n",
        "\n",
        "- Unlike some other languages (e.g. C++), Python does not guarantee when an object will be destroyed, especially when using non-CPython interpreters. This can cause unpredictable memory use in certain scenarios.\n"
      ],
      "metadata": {
        "id": "fkLnkY_ClCXw"
      }
    },
    {
      "cell_type": "markdown",
      "source": [
        "### 24. How do you raise an exception manually in python?"
      ],
      "metadata": {
        "id": "vmmbF2g1lCVw"
      }
    },
    {
      "cell_type": "markdown",
      "source": [
        "We can raise an exception manually in Python using the raise keyword."
      ],
      "metadata": {
        "id": "_P2svXRGlCTO"
      }
    },
    {
      "cell_type": "code",
      "source": [
        "#  Raising a Built-in Exception\n",
        "\n",
        "age = -5\n",
        "if age < 0:\n",
        "    raise ValueError(\"Age cannot be negative\")\n"
      ],
      "metadata": {
        "id": "i4jeHQ5Wnk5S"
      },
      "execution_count": null,
      "outputs": []
    },
    {
      "cell_type": "code",
      "source": [
        "# Raising a Custom Exception\n",
        "\n",
        "class MyCustomError(Exception):\n",
        "    pass\n",
        "\n",
        "raise MyCustomError(\"This is a custom exception\")\n"
      ],
      "metadata": {
        "id": "gfMJUk4HnxRw"
      },
      "execution_count": null,
      "outputs": []
    },
    {
      "cell_type": "markdown",
      "source": [
        "### 25. why is it important to use multithreading in certain application?"
      ],
      "metadata": {
        "id": "am9kkOu7lCRI"
      }
    },
    {
      "cell_type": "markdown",
      "source": [
        "1. Improves Responsiveness\n",
        "\n",
        "    In GUI or web applications, multithreading ensures that the user interface stays responsive.\n",
        "\n",
        "    Example: A button click opens a new window while a background thread downloads data.\n",
        "\n",
        "2. Handles I/O-bound Tasks Efficiently\n",
        "\n",
        "    Tasks like reading files, making API calls, or waiting for user input benefit from multithreading.\n",
        "\n",
        "    While one thread waits for I/O, another can continue processing.\n",
        "\n",
        "3. Enables Concurrent Execution\n",
        "\n",
        "    Multiple threads can execute different tasks simultaneously, leading to faster program behavior in many cases.\n",
        "\n",
        "4. Better Resource Utilization\n",
        "\n",
        "    Threads share the same memory space, so multithreading is more lightweight than multiprocessing.\n",
        "\n",
        "    This reduces the overhead of creating and managing separate memory for each process.\n",
        "\n",
        "5. Real-Time Applications\n",
        "\n",
        "    In games, simulations, or real-time systems, multiple threads can handle things like rendering, input, and sound concurrently.\n"
      ],
      "metadata": {
        "id": "kPXGGhcblCOg"
      }
    },
    {
      "cell_type": "markdown",
      "source": [
        "# Practical Questions"
      ],
      "metadata": {
        "id": "TatO1B9dqSth"
      }
    },
    {
      "cell_type": "code",
      "source": [
        "# 1. How can you open a file for writing in python and write a string to it ?\n",
        "\n",
        "# from google.colab import drive\n",
        "\n",
        "# Mount Google Drive\n",
        "drive.mount('/content/drive',force_remount=True)\n",
        "\n",
        "file_path = '/content/drive/My Drive/Colab Notebooks/example.txt'\n",
        "\n",
        "with open(file_path, \"w\") as file:\n",
        "    file.write(\"Hello, this is a string written to a file on Google Drive.\")"
      ],
      "metadata": {
        "colab": {
          "base_uri": "https://localhost:8080/"
        },
        "id": "3QotH4c3qTmg",
        "outputId": "828d2153-d203-4294-f50e-3a82268fe977"
      },
      "execution_count": null,
      "outputs": [
        {
          "output_type": "stream",
          "name": "stdout",
          "text": [
            "Mounted at /content/drive\n"
          ]
        }
      ]
    },
    {
      "cell_type": "code",
      "source": [
        "# 2. write the python program to read the contents of a file and print each line?\n",
        "\n",
        "\n",
        "from google.colab import drive\n",
        "\n",
        "# Mount Google Drive\n",
        "drive.mount('/content/drive')\n",
        "\n",
        "# Replace with the actual path to your file in your Google Drive\n",
        "# Example: '/content/drive/My Drive/Colab Notebooks/filename.txt'\n",
        "file_path = '/content/drive/My Drive/Colab Notebooks/example.txt'\n",
        "\n",
        "try:\n",
        "    with open(file_path, 'r') as file:\n",
        "        for line in file:\n",
        "            print(line, end='')  # Avoid extra newlines\n",
        "except FileNotFoundError:\n",
        "    print(f\"File '{file_path}' not found.\")\n",
        "except IOError:\n",
        "    print(f\"An error occurred while reading the file '{file_path}'.\")\n",
        "\n",
        "\n"
      ],
      "metadata": {
        "id": "9kiBb6Z4ovzq",
        "colab": {
          "base_uri": "https://localhost:8080/"
        },
        "outputId": "ad217d6e-842c-4e33-dec8-98e5730ff8cd"
      },
      "execution_count": null,
      "outputs": [
        {
          "output_type": "stream",
          "name": "stdout",
          "text": [
            "Drive already mounted at /content/drive; to attempt to forcibly remount, call drive.mount(\"/content/drive\", force_remount=True).\n",
            "Hello, this is a string written to a file on Google Drive."
          ]
        }
      ]
    },
    {
      "cell_type": "code",
      "source": [
        "# 3. How would you handle a case where the file doesn't exist while trying to open it for reading\n",
        "\n",
        "file_path = '/content/drive/My Drive/Colab Notebooks/examples.txt'\n",
        "\n",
        "try:\n",
        "    with open(file_path, 'r') as file:\n",
        "        for line in file:\n",
        "            print(line, end='')\n",
        "except FileNotFoundError:\n",
        "    print(f\"Error: The file '{file_path}' was not found.\")\n"
      ],
      "metadata": {
        "colab": {
          "base_uri": "https://localhost:8080/"
        },
        "id": "Dy0iCUx9kbqw",
        "outputId": "90c40687-7822-4c9f-831f-be5c07a878bc"
      },
      "execution_count": null,
      "outputs": [
        {
          "output_type": "stream",
          "name": "stdout",
          "text": [
            "Error: The file '/content/drive/My Drive/Colab Notebooks/examples.txt' was not found.\n"
          ]
        }
      ]
    },
    {
      "cell_type": "code",
      "source": [
        "# 4. write a python script that reads from one file and writes its content to another file\n",
        "\n",
        "# Define source and destination file paths\n",
        "source_file = '/content/drive/My Drive/Colab Notebooks/sample1.txt'\n",
        "destination_file = '/content/drive/My Drive/Colab Notebooks/sample2.txt'\n",
        "\n",
        "try:\n",
        "    # Open the source file in read mode and destination file in write mode\n",
        "    with open(source_file, 'r') as src, open(destination_file, 'w') as dest:\n",
        "        for line in src:\n",
        "            dest.write(line)\n",
        "    print(f\"Contents copied successfully.\")\n",
        "except FileNotFoundError:\n",
        "    print(f\"Error: The file '{source_file}' was not found.\")\n",
        "except IOError as e:\n",
        "    print(f\"An error occurred during file operation: {e}\")\n"
      ],
      "metadata": {
        "colab": {
          "base_uri": "https://localhost:8080/"
        },
        "id": "WMaMWooNmkzK",
        "outputId": "9704df4c-8758-46e4-f995-7684fbdb3325"
      },
      "execution_count": null,
      "outputs": [
        {
          "output_type": "stream",
          "name": "stdout",
          "text": [
            "Contents copied successfully.\n"
          ]
        }
      ]
    },
    {
      "cell_type": "code",
      "source": [
        "# 5.How would you catch and handle division by error in python?\n",
        "\n",
        "try:\n",
        "    a = 10\n",
        "    b = 0\n",
        "    result = a / b\n",
        "    print(\"Result:\", result)\n",
        "except ZeroDivisionError:\n",
        "    print(\"Error: Division by zero is not allowed.\")"
      ],
      "metadata": {
        "colab": {
          "base_uri": "https://localhost:8080/"
        },
        "id": "DKLrIWirpd8x",
        "outputId": "f8638614-deba-41f1-b109-9188ca6e9dfa"
      },
      "execution_count": null,
      "outputs": [
        {
          "output_type": "stream",
          "name": "stdout",
          "text": [
            "Error: Division by zero is not allowed.\n"
          ]
        }
      ]
    },
    {
      "cell_type": "code",
      "source": [
        "# 6. write a python program that logs an error message to a log file when a division by zero exception occurs\n",
        "\n",
        "import logging\n",
        "\n",
        "# Configure logging\n",
        "logging.basicConfig(\n",
        "    filename='error_log.txt',      # Log file name\n",
        "    level=logging.ERROR,           # Log level\n",
        "    format='%(asctime)s - %(levelname)s - %(message)s'  # Log format\n",
        ")\n",
        "\n",
        "# Example function that might raise ZeroDivisionError\n",
        "def divide(a, b):\n",
        "    try:\n",
        "        result = a / b\n",
        "        print(\"Result:\", result)\n",
        "    except ZeroDivisionError:\n",
        "        logging.error(\"Attempted division by zero. a=%d, b=%d\", a, b)\n",
        "        print(\"Error: Cannot divide by zero.\")\n",
        "\n",
        "# Test the function\n",
        "divide(10, 0)"
      ],
      "metadata": {
        "colab": {
          "base_uri": "https://localhost:8080/"
        },
        "id": "LMsZDzfIqN42",
        "outputId": "8d901009-710d-4c37-acb2-ee2bddffc30d"
      },
      "execution_count": null,
      "outputs": [
        {
          "output_type": "stream",
          "name": "stderr",
          "text": [
            "ERROR:root:Attempted division by zero. a=10, b=0\n"
          ]
        },
        {
          "output_type": "stream",
          "name": "stdout",
          "text": [
            "Error: Cannot divide by zero.\n"
          ]
        }
      ]
    },
    {
      "cell_type": "code",
      "source": [
        "# 7. How do you log information at different level (INFO ERROR WARNING) in python using the logging module?\n",
        "\n",
        "import logging\n",
        "\n",
        "# Configure the logging system\n",
        "logging.basicConfig(\n",
        "    filename='app.log',  # Log file name\n",
        "    level=logging.DEBUG,  # Set the lowest level you want to capture\n",
        "    format='%(asctime)s - %(levelname)s - %(message)s'\n",
        ")\n",
        "\n",
        "# Log messages at different severity levels\n",
        "logging.debug(\"This is a DEBUG message — useful for debugging.\")\n",
        "logging.info(\"This is an INFO message — general information.\")\n",
        "logging.warning(\"This is a WARNING message — something might be wrong.\")\n",
        "logging.error(\"This is an ERROR message — an exception occurred.\")\n",
        "logging.critical(\"This is a CRITICAL message — serious error.\")"
      ],
      "metadata": {
        "colab": {
          "base_uri": "https://localhost:8080/"
        },
        "id": "Gd3a9PLMuzCv",
        "outputId": "73e20175-5d10-4204-968d-f87d71b98fd6"
      },
      "execution_count": null,
      "outputs": [
        {
          "output_type": "stream",
          "name": "stderr",
          "text": [
            "WARNING:root:This is a WARNING message — something might be wrong.\n",
            "ERROR:root:This is an ERROR message — an exception occurred.\n",
            "CRITICAL:root:This is a CRITICAL message — serious error.\n"
          ]
        }
      ]
    },
    {
      "cell_type": "code",
      "source": [
        "# 8. write a python program to handle file opening error using exception handling?\n",
        "\n",
        "def open_file(file_path):\n",
        "    try:\n",
        "        with open(file_path, 'r') as file:\n",
        "            contents = file.read()\n",
        "            print(\"File contents:\")\n",
        "            print(contents)\n",
        "    except FileNotFoundError:\n",
        "        print(f\"Error: The file '{file_path}' was not found.\")\n",
        "    except PermissionError:\n",
        "        print(f\"Error: Permission denied while accessing '{file_path}'.\")\n",
        "    except IOError as e:\n",
        "        print(f\"An I/O error occurred: {e}\")\n",
        "\n",
        "# Test the function with a file path\n",
        "file_path = '/content/drive/My Drive/Colab Notebooks/example.txt'\n",
        "open_file(file_path)"
      ],
      "metadata": {
        "colab": {
          "base_uri": "https://localhost:8080/"
        },
        "id": "KRiekwq5wIDc",
        "outputId": "2930d5b3-61a2-41e0-ca01-303030b7f7d4"
      },
      "execution_count": null,
      "outputs": [
        {
          "output_type": "stream",
          "name": "stdout",
          "text": [
            "File contents:\n",
            "Hello, this is a string written to a file on Google Drive.\n"
          ]
        }
      ]
    },
    {
      "cell_type": "code",
      "source": [
        "# 9.How can you read a file line by lin and store its contents in a list in python?\n",
        "\n",
        "file_path = '/content/drive/My Drive/Colab Notebooks/example.txt'\n",
        "\n",
        "try:\n",
        "    with open(file_path, 'r') as file:\n",
        "        lines = file.readlines()  # Reads all lines into a list\n",
        "    print(\"File contents stored in a list:\")\n",
        "    print(lines)\n",
        "except FileNotFoundError:\n",
        "    print(f\"Error: File '{file_path}' not found.\")\n"
      ],
      "metadata": {
        "colab": {
          "base_uri": "https://localhost:8080/"
        },
        "id": "mVhJuzakxS5G",
        "outputId": "daf792ca-a2f7-472c-b12a-881180963945"
      },
      "execution_count": null,
      "outputs": [
        {
          "output_type": "stream",
          "name": "stdout",
          "text": [
            "File contents stored in a list:\n",
            "['Hello, this is a string written to a file on Google Drive.']\n"
          ]
        }
      ]
    },
    {
      "cell_type": "code",
      "source": [
        "# 10. how can you aapend data to an existing file in python?\n",
        "\n",
        "file_path = 'example.txt'\n",
        "\n",
        "try:\n",
        "    with open(file_path, 'a') as file:\n",
        "        file.write(\"This is a new line being appended.\\n\")\n",
        "    print(\"Data appended successfully.\")\n",
        "except IOError as e:\n",
        "    print(f\"An I/O error occurred: {e}\")\n",
        "\n"
      ],
      "metadata": {
        "colab": {
          "base_uri": "https://localhost:8080/"
        },
        "id": "Vwb0Fg2AzZ_-",
        "outputId": "241334f0-6141-4ec0-f0ab-80e7027b5da0"
      },
      "execution_count": null,
      "outputs": [
        {
          "output_type": "stream",
          "name": "stdout",
          "text": [
            "Data appended successfully.\n"
          ]
        }
      ]
    },
    {
      "cell_type": "code",
      "source": [
        "# 11. write a python program that uses a try except block to handle an error when attempting to access a dictionary key that doesn't exist\n",
        "\n",
        "# Sample dictionary\n",
        "student = {\n",
        "    \"name\": \"Alice\",\n",
        "    \"age\": 20,\n",
        "    \"course\": \"Computer Science\"\n",
        "}\n",
        "\n",
        "try:\n",
        "    # Attempt to access a key that may not exist\n",
        "    grade = student[\"grade\"]\n",
        "    print(\"Grade:\", grade)\n",
        "except KeyError:\n",
        "    print(\"Error: The key 'grade' does not exist in the dictionary.\")\n"
      ],
      "metadata": {
        "colab": {
          "base_uri": "https://localhost:8080/"
        },
        "id": "c0IsIakQ1fUy",
        "outputId": "ff08d9d2-5b6d-47f3-d686-807ccdedfc76"
      },
      "execution_count": null,
      "outputs": [
        {
          "output_type": "stream",
          "name": "stdout",
          "text": [
            "Error: The key 'grade' does not exist in the dictionary.\n"
          ]
        }
      ]
    },
    {
      "cell_type": "code",
      "source": [
        "# 12. write a program that demonstrates using multiple except block to handle different types of exceptions\n",
        "\n",
        "try:\n",
        "    # Example inputs that can cause different exceptions\n",
        "    num = int(input(\"Enter a number: \"))\n",
        "    result = 10 / num\n",
        "    values = [1, 2, 3]\n",
        "    print(\"Fifth element:\", values[4])  # IndexError\n",
        "\n",
        "except ValueError:\n",
        "    print(\"Error: Invalid input. Please enter a numeric value.\")\n",
        "\n",
        "except ZeroDivisionError:\n",
        "    print(\"Error: Division by zero is not allowed.\")\n",
        "\n",
        "except IndexError:\n",
        "    print(\"Error: List index out of range.\")\n",
        "\n",
        "except Exception as e:\n",
        "    # Catch-all for any other unexpected exceptions\n",
        "    print(f\"An unexpected error occurred: {e}\")\n"
      ],
      "metadata": {
        "colab": {
          "base_uri": "https://localhost:8080/"
        },
        "id": "jub-sDY92MBY",
        "outputId": "9fed0a0c-4435-46f2-a799-b4f2b5e05eaa"
      },
      "execution_count": null,
      "outputs": [
        {
          "output_type": "stream",
          "name": "stdout",
          "text": [
            "Enter a number: 5\n",
            "Error: List index out of range.\n"
          ]
        }
      ]
    },
    {
      "cell_type": "code",
      "source": [
        "# 13. How would you check if a file exists before attempting to read it in python?\n",
        "\n",
        "import os\n",
        "\n",
        "file_path = 'example.txt'\n",
        "\n",
        "if os.path.exists(file_path):\n",
        "    with open(file_path, 'r') as file:\n",
        "        contents = file.read()\n",
        "        print(contents)\n",
        "else:\n",
        "    print(f\"Error: File '{file_path}' does not exist.\")"
      ],
      "metadata": {
        "colab": {
          "base_uri": "https://localhost:8080/"
        },
        "id": "omJ676Ey26JK",
        "outputId": "f57f15f2-2e16-41f5-cd7b-7dfc62959d6b"
      },
      "execution_count": null,
      "outputs": [
        {
          "output_type": "stream",
          "name": "stdout",
          "text": [
            "This is a new line being appended.\n",
            "\n"
          ]
        }
      ]
    },
    {
      "cell_type": "code",
      "source": [
        "# 14. write a program that uses the logging module to log both informational and error messages\n",
        "import logging\n",
        "\n",
        "# Configure logging\n",
        "logging.basicConfig(\n",
        "    filename='app.log',          # Log file name\n",
        "    level=logging.DEBUG,         # Minimum level of messages to capture\n",
        "    format='%(asctime)s - %(levelname)s - %(message)s'\n",
        ")\n",
        "\n",
        "def divide(a, b):\n",
        "    logging.info(f\"Attempting to divide {a} by {b}\")\n",
        "    try:\n",
        "        result = a / b\n",
        "        logging.info(f\"Result: {result}\")\n",
        "        return result\n",
        "    except ZeroDivisionError:\n",
        "        logging.error(\"Error: Division by zero attempted.\")\n",
        "    except Exception as e:\n",
        "        logging.error(f\"Unexpected error: {e}\")\n",
        "\n",
        "# Example usage\n",
        "divide(10, 2)\n",
        "divide(10, 0)\n",
        "\n"
      ],
      "metadata": {
        "colab": {
          "base_uri": "https://localhost:8080/"
        },
        "id": "-1CawELb3gsv",
        "outputId": "4814eee9-d48b-42ed-c867-55f6bcfb4e1d"
      },
      "execution_count": null,
      "outputs": [
        {
          "output_type": "stream",
          "name": "stderr",
          "text": [
            "ERROR:root:Error: Division by zero attempted.\n"
          ]
        }
      ]
    },
    {
      "cell_type": "code",
      "source": [
        "# 15. write the program that prints the content of a files and handles the case when the file is empty\n",
        "\n",
        "import os\n",
        "\n",
        "def print_file_contents(file_path):\n",
        "    try:\n",
        "        if os.path.exists(file_path):\n",
        "            # Check if the file is empty\n",
        "            if os.path.getsize(file_path) == 0:\n",
        "                print(f\"The file '{file_path}' is empty.\")\n",
        "            else:\n",
        "                with open(file_path, 'r') as file:\n",
        "                    contents = file.read()\n",
        "                    print(\"File contents:\\n\")\n",
        "                    print(contents)\n",
        "        else:\n",
        "            print(f\"Error: The file '{file_path}' does not exist.\")\n",
        "    except IOError as e:\n",
        "        print(f\"An I/O error occurred: {e}\")\n",
        "\n",
        "# Replace with your file path\n",
        "file_path = '/content/drive/My Drive/Colab Notebooks/sample3.txt'\n",
        "print_file_contents(file_path)"
      ],
      "metadata": {
        "colab": {
          "base_uri": "https://localhost:8080/"
        },
        "id": "2zpzKBaW4UK7",
        "outputId": "1cad5e34-f69b-47ce-e5bb-c466ff03a911"
      },
      "execution_count": null,
      "outputs": [
        {
          "output_type": "stream",
          "name": "stdout",
          "text": [
            "The file '/content/drive/My Drive/Colab Notebooks/sample3.txt' is empty.\n"
          ]
        }
      ]
    },
    {
      "cell_type": "code",
      "source": [
        "# 16. Demonstrate how to use memory profiling to check the memory usage of small program\n",
        "\n",
        "from memory_profiler import memory_usage\n",
        "\n",
        "def my_function():\n",
        "    a = [i for i in range(1000000)]  # Large list\n",
        "    return sum(a)\n",
        "\n",
        "# Profile the function\n",
        "mem_usage = memory_usage(my_function)\n",
        "\n",
        "# Show result\n",
        "print(f\"Memory used: {max(mem_usage) - min(mem_usage):.2f} MiB\")\n"
      ],
      "metadata": {
        "id": "6crygj695Vh7",
        "colab": {
          "base_uri": "https://localhost:8080/"
        },
        "outputId": "ba82b3f7-352b-4544-9945-6d797c2186eb"
      },
      "execution_count": null,
      "outputs": [
        {
          "output_type": "stream",
          "name": "stdout",
          "text": [
            "Memory used: 29.49 MiB\n"
          ]
        }
      ]
    },
    {
      "cell_type": "code",
      "source": [
        "# 17. write a python program to create and write a list of numbers to a file one number per line\n",
        "\n",
        "\n",
        "# List of numbers to write\n",
        "numbers = [10, 20, 30, 40, 50]\n",
        "\n",
        "# File path to write to\n",
        "file_path = 'numbers.txt'\n",
        "\n",
        "try:\n",
        "    with open(file_path, 'w') as file:\n",
        "        for number in numbers:\n",
        "            file.write(f\"{number}\\n\")  # Write each number followed by a newline\n",
        "    print(f\"Successfully wrote {len(numbers)} numbers to '{file_path}'.\")\n",
        "except IOError as e:\n",
        "    print(f\"An I/O error occurred: {e}\")\n"
      ],
      "metadata": {
        "colab": {
          "base_uri": "https://localhost:8080/"
        },
        "id": "M90VMCcU7oZo",
        "outputId": "8cd399a2-7aca-4c17-88c6-aa2f3ef2f880"
      },
      "execution_count": null,
      "outputs": [
        {
          "output_type": "stream",
          "name": "stdout",
          "text": [
            "Successfully wrote 5 numbers to 'numbers.txt'.\n"
          ]
        }
      ]
    },
    {
      "cell_type": "code",
      "source": [
        "# 18. How would you implement a basic logging setup that logs to a file with rotation after 1MB\n",
        "\n",
        "import logging\n",
        "from logging.handlers import RotatingFileHandler\n",
        "\n",
        "# Create a logger\n",
        "logger = logging.getLogger('MyLogger')\n",
        "logger.setLevel(logging.DEBUG)  # Capture all levels DEBUG and above\n",
        "\n",
        "# Create a rotating file handler\n",
        "handler = RotatingFileHandler(\n",
        "    'app.log',         # Log file name\n",
        "    maxBytes=1_000_000, # Rotate after 1,000,000 bytes (~1MB)\n",
        "    backupCount=3       # Keep up to 3 backup files\n",
        ")\n",
        "\n",
        "# Create a logging format\n",
        "formatter = logging.Formatter('%(asctime)s - %(levelname)s - %(message)s')\n",
        "handler.setFormatter(formatter)\n",
        "\n",
        "# Add the handler to the logger\n",
        "logger.addHandler(handler)\n",
        "\n",
        "# Example usage\n",
        "logger.info(\"This is an info message.\")\n",
        "logger.error(\"This is an error message.\")"
      ],
      "metadata": {
        "colab": {
          "base_uri": "https://localhost:8080/"
        },
        "id": "FvEvT_689Qhc",
        "outputId": "0970a8c4-0710-4187-b293-f518101a4285"
      },
      "execution_count": null,
      "outputs": [
        {
          "output_type": "stream",
          "name": "stderr",
          "text": [
            "INFO:MyLogger:This is an info message.\n",
            "ERROR:MyLogger:This is an error message.\n"
          ]
        }
      ]
    },
    {
      "cell_type": "code",
      "source": [
        "# 19. write a program that handles both IndexError and key error using a try except block\n",
        "\n",
        "# Sample list and dictionary\n",
        "my_list = [1, 2, 3]\n",
        "my_dict = {'a': 10, 'b': 20}\n",
        "\n",
        "try:\n",
        "    # Access an invalid index in the list (raises IndexError)\n",
        "    print(my_list[5])\n",
        "\n",
        "    # Access a missing key in the dictionary (raises KeyError)\n",
        "    print(my_dict['z'])\n",
        "\n",
        "except IndexError:\n",
        "    print(\"Error: List index out of range.\")\n",
        "\n",
        "except KeyError:\n",
        "    print(\"Error: Key not found in dictionary.\")\n"
      ],
      "metadata": {
        "colab": {
          "base_uri": "https://localhost:8080/"
        },
        "id": "fe1VsE2-_DU9",
        "outputId": "b38992b9-d200-457b-c73d-5d08ca1abe4b"
      },
      "execution_count": null,
      "outputs": [
        {
          "output_type": "stream",
          "name": "stdout",
          "text": [
            "Error: List index out of range.\n"
          ]
        }
      ]
    },
    {
      "cell_type": "code",
      "source": [
        "#20. How would you open a file and reads its contents using a context manager in python\n",
        "\n",
        "file_path = 'example.txt'\n",
        "\n",
        "with open(file_path, 'r') as file:\n",
        "    contents = file.read()\n",
        "    print(contents)\n"
      ],
      "metadata": {
        "colab": {
          "base_uri": "https://localhost:8080/"
        },
        "id": "gTP_dRNyADK5",
        "outputId": "01824b3d-add3-4e10-c07b-e4e2e8671baa"
      },
      "execution_count": null,
      "outputs": [
        {
          "output_type": "stream",
          "name": "stdout",
          "text": [
            "This is a new line being appended.\n",
            "\n"
          ]
        }
      ]
    },
    {
      "cell_type": "code",
      "source": [
        "#21 wrtie a python program that reads a file and prints the number of occurences of a specific word\n",
        "\n",
        "import string\n",
        "\n",
        "def count_word_occurrences(file_path, target_word):\n",
        "    try:\n",
        "        with open(file_path, 'r') as file:\n",
        "            content = file.read()\n",
        "\n",
        "        # Normalize text: lowercase and remove punctuation\n",
        "        translator = str.maketrans('', '', string.punctuation)\n",
        "        clean_content = content.lower().translate(translator)\n",
        "\n",
        "        # Split into words and count occurrences\n",
        "        words = clean_content.split()\n",
        "        count = words.count(target_word.lower())\n",
        "\n",
        "        print(f\"The word '{target_word}' occurs {count} times in the file.\")\n",
        "\n",
        "    except FileNotFoundError:\n",
        "        print(f\"Error: The file '{file_path}' was not found.\")\n",
        "    except IOError as e:\n",
        "        print(f\"An I/O error occurred: {e}\")\n",
        "\n",
        "# Example usage\n",
        "file_path = 'example.txt'      # Replace with your actual file path\n",
        "target_word = 'python'         # Replace with the word you want to count\n",
        "\n",
        "count_word_occurrences(file_path, target_word)"
      ],
      "metadata": {
        "colab": {
          "base_uri": "https://localhost:8080/"
        },
        "id": "Vq-ONY20Aip0",
        "outputId": "8256c1c9-4c45-4939-e202-1c9e4d24b2e7"
      },
      "execution_count": null,
      "outputs": [
        {
          "output_type": "stream",
          "name": "stdout",
          "text": [
            "The word 'python' occurs 0 times in the file.\n"
          ]
        }
      ]
    },
    {
      "cell_type": "code",
      "source": [
        "# 22 How can you check if a file is empty before attempting to read its contents?\n",
        "\n",
        "import os\n",
        "from google.colab import drive\n",
        "\n",
        "# Mount Google Drive\n",
        "drive.mount('/content/drive')\n",
        "\n",
        "file_path = '/content/drive/My Drive/Colab Notebooks/example.txt'\n",
        "\n",
        "if os.path.getsize(file_path) == 0:\n",
        "    print(\"File is empty.\")\n",
        "else:\n",
        "    with open(file_path, 'r') as f:\n",
        "        contents = f.read()\n",
        "        print(contents)\n"
      ],
      "metadata": {
        "id": "5yUvzdchB_i8",
        "colab": {
          "base_uri": "https://localhost:8080/"
        },
        "outputId": "4fbf1dc6-e112-4693-f417-7be597464328"
      },
      "execution_count": 4,
      "outputs": [
        {
          "output_type": "stream",
          "name": "stdout",
          "text": [
            "Mounted at /content/drive\n",
            "Hello, this is a string written to a file on Google Drive.\n"
          ]
        }
      ]
    },
    {
      "cell_type": "code",
      "source": [
        "# 23. write a python program that writes to a log file when an error occurs during file handling?\n",
        "\n",
        "import logging\n",
        "\n",
        "# Configure logging\n",
        "logging.basicConfig(\n",
        "    filename='error.log',\n",
        "    level=logging.ERROR,\n",
        "    format='%(asctime)s - %(levelname)s - %(message)s'\n",
        ")\n",
        "\n",
        "def read_file(file_path):\n",
        "    try:\n",
        "        with open(file_path, 'r') as f:\n",
        "            return f.read()\n",
        "    except FileNotFoundError as e:\n",
        "        logging.error(f\"File not found: {file_path} - {e}\")\n",
        "    except PermissionError as e:\n",
        "        logging.error(f\"Permission denied: {file_path} - {e}\")\n",
        "    except Exception as e:\n",
        "        logging.error(f\"An unexpected error occurred while reading {file_path} - {e}\")\n",
        "\n",
        "# Example usage\n",
        "file_content = read_file(\"non_existent_file.txt\")\n",
        "if file_content:\n",
        "    print(file_content)\n",
        "else:\n",
        "    print(\"An error occurred. Check error.log for details.\")\n"
      ],
      "metadata": {
        "colab": {
          "base_uri": "https://localhost:8080/"
        },
        "id": "H8MeBglQ_ufu",
        "outputId": "3cdd964a-2c51-4767-a6fd-c0d057fdc1ba"
      },
      "execution_count": 5,
      "outputs": [
        {
          "output_type": "stream",
          "name": "stderr",
          "text": [
            "ERROR:root:File not found: non_existent_file.txt - [Errno 2] No such file or directory: 'non_existent_file.txt'\n"
          ]
        },
        {
          "output_type": "stream",
          "name": "stdout",
          "text": [
            "An error occurred. Check error.log for details.\n"
          ]
        }
      ]
    }
  ]
}